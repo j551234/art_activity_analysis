{
 "cells": [
  {
   "cell_type": "code",
   "execution_count": null,
   "id": "54da21e2",
   "metadata": {},
   "outputs": [],
   "source": [
    "import pandas as pd\n",
    "import pymysql.cursors\n",
    "import matplotlib.pyplot as plt \n"
   ]
  },
  {
   "cell_type": "code",
   "execution_count": null,
   "id": "10d8264f",
   "metadata": {},
   "outputs": [],
   "source": []
  },
  {
   "cell_type": "code",
   "execution_count": null,
   "id": "c84f96c9",
   "metadata": {},
   "outputs": [],
   "source": [
    "## location_List \n",
    "location_list =[\"新竹縣\",\"苗栗縣\",\"彰化縣\",\"南投縣\",\"雲林縣\",\"嘉義縣\",\"屏東縣\",\"宜蘭縣\",\"花蓮縣\",\"臺東縣\",\"澎湖縣\",\"金門縣\",\"連江縣\",\"基隆市\",\"新竹市\",\"嘉義市\",\"臺北市\",\"新北市\",\"桃園市\",\"臺中市\",\"臺南市\",\"高雄市\"]\n",
    "\n",
    "location_count_list = []\n",
    "# Connect to the database\n",
    "connection = pymysql.connect(host='localhost',\n",
    "                             user='testadmin',\n",
    "                             password='testadmin',\n",
    "                             database='test',\n",
    "                             cursorclass=pymysql.cursors.DictCursor)\n",
    "\n",
    "with connection:\n",
    "  \n",
    "\n",
    "    with connection.cursor() as cursor:\n",
    "        \n",
    "        for location in location_list :\n",
    "            sql = \"SELECT   count(DISTINCT uid) as amount  FROM `all_event`    WHERE   `location` like %s\"\n",
    "            cursor.execute(sql, (\"%\" + location + \"%\",))\n",
    "            result = cursor.fetchone()\n",
    "            count = result['amount']\n",
    "            new_list = []\n",
    "            new_list.append(location)\n",
    "            new_list.append(count)\n",
    "            location_count_list.append(new_list)  \n",
    "            "
   ]
  },
  {
   "cell_type": "code",
   "execution_count": null,
   "id": "3376feae",
   "metadata": {},
   "outputs": [],
   "source": [
    "total = 0\n",
    "for list_index in location_count_list:\n",
    "    for i in list_index:\n",
    "        if(type(i)==int):\n",
    "            total = total + i\n",
    "print(total)"
   ]
  },
  {
   "cell_type": "code",
   "execution_count": null,
   "id": "14efc767",
   "metadata": {},
   "outputs": [],
   "source": [
    "## 今年度 藝文活動場次 比率\n",
    "df = pd.DataFrame(location_count_list, columns = ['location', 'count'])\n",
    "df['ratio'] = df['count'] / total\n",
    "display(df.sort_values(by=['ratio'], ascending=False))"
   ]
  },
  {
   "cell_type": "code",
   "execution_count": null,
   "id": "1055a464",
   "metadata": {},
   "outputs": [],
   "source": [
    "## 比率圖\n",
    "\n",
    "plt.figure(figsize=(16,9))    # 顯示圖框架大小\n",
    "\n",
    "labels = df[\"location\"]      # 製作圓餅圖的類別標籤\n",
    "size = df[\"ratio\"]                         # 製作圓餅圖的數值來源\n",
    "plt.rcParams['font.sans-serif'] = ['Taipei Sans TC Beta']\n",
    "\n",
    "plt.pie(size,                           # 數值\n",
    "        labels = labels,                # 標籤\n",
    "        autopct = \"%1.1f%%\",            # 將數值百分比並留到小數點一位\n",
    "        pctdistance = 0.6,              # 數字距圓心的距離\n",
    "        textprops = {\"fontsize\" : 20},  # 文字大小\n",
    "        shadow=True)                    # 設定陰影\n",
    "\n",
    " \n",
    "plt.axis('equal')                                          # 使圓餅圖比例相等\n",
    "plt.title(\"藝文活動縣市占比\", {\"fontsize\" : 35},loc ='left')  # 設定標題及其文字大小\n",
    "plt.legend(loc = \"best\")                                   # 設定圖例及其位置為最佳\n",
    "\n",
    "plt.savefig(\"藝文活動縣市占比.jpg\",   # 儲存圖檔\n",
    "            bbox_inches='tight',               # 去除座標軸占用的空間\n",
    "            pad_inches=0.0)                    # 去除所有白邊\n",
    "# plt.close()   "
   ]
  },
  {
   "cell_type": "code",
   "execution_count": null,
   "id": "3b00d67c",
   "metadata": {},
   "outputs": [],
   "source": []
  },
  {
   "cell_type": "code",
   "execution_count": null,
   "id": "21a114ca",
   "metadata": {},
   "outputs": [],
   "source": []
  },
  {
   "cell_type": "code",
   "execution_count": null,
   "id": "b6d9b6fd",
   "metadata": {},
   "outputs": [],
   "source": []
  }
 ],
 "metadata": {
  "kernelspec": {
   "display_name": "Python 3 (ipykernel)",
   "language": "python",
   "name": "python3"
  },
  "language_info": {
   "codemirror_mode": {
    "name": "ipython",
    "version": 3
   },
   "file_extension": ".py",
   "mimetype": "text/x-python",
   "name": "python",
   "nbconvert_exporter": "python",
   "pygments_lexer": "ipython3",
   "version": "3.9.7"
  }
 },
 "nbformat": 4,
 "nbformat_minor": 5
}
