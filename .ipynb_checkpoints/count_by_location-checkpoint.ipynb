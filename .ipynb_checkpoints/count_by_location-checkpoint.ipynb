{
 "cells": [
  {
   "cell_type": "code",
   "execution_count": 1,
   "id": "21d2175e",
   "metadata": {},
   "outputs": [],
   "source": [
    "import pymysql.cursors\n",
    "import matplotlib.pyplot as plt "
   ]
  },
  {
   "cell_type": "code",
   "execution_count": 2,
   "id": "dbce85f0",
   "metadata": {},
   "outputs": [],
   "source": [
    "class location_count:\n",
    "        def __init__(self, location, count):\n",
    "            self.location = location \n",
    "            self.count = count "
   ]
  },
  {
   "cell_type": "code",
   "execution_count": 3,
   "id": "f0b9bcb3",
   "metadata": {},
   "outputs": [],
   "source": [
    "## location_List \n",
    "location_list =[\"新竹縣\",\"苗栗縣\",\"彰化縣\",\"南投縣\",\"雲林縣\",\"嘉義縣\",\"屏東縣\",\"宜蘭縣\",\"花蓮縣\",\"臺東縣\",\"澎湖縣\",\"金門縣\",\"連江縣\",\"基隆市\",\"新竹市\",\"嘉義市\",\"臺北市\",\"新北市\",\"桃園市\",\"臺中市\",\"臺南市\",\"高雄市\"]\n",
    "\n",
    "location_count_list = []\n",
    "# Connect to the database\n",
    "connection = pymysql.connect(host='localhost',\n",
    "                             user='testadmin',\n",
    "                             password='testadmin',\n",
    "                             database='test',\n",
    "                             cursorclass=pymysql.cursors.DictCursor)\n",
    "\n",
    "with connection:\n",
    "  \n",
    "\n",
    "    with connection.cursor() as cursor:\n",
    "        \n",
    "        for location in location_list :\n",
    "            sql = \"SELECT count(*) FROM `all_event` WHERE `location` like %s\"\n",
    "            cursor.execute(sql, (\"%\" + location + \"%\",))\n",
    "            result = cursor.fetchone()\n",
    "            count = result['count(*)']\n",
    "            count_data = location_count(location,count)\n",
    "            location_count_list.append(count_data)\n",
    "            \n",
    "\n",
    "    \n",
    "            \n",
    "            \n",
    "            \n",
    "            \n",
    "            "
   ]
  },
  {
   "cell_type": "code",
   "execution_count": 4,
   "id": "bebf5b7b",
   "metadata": {},
   "outputs": [
    {
     "name": "stdout",
     "output_type": "stream",
     "text": [
      "8920\n"
     ]
    }
   ],
   "source": [
    "total = 0\n",
    "for i in location_count_list:\n",
    "    total = total + i.count \n",
    "print(total)   "
   ]
  },
  {
   "cell_type": "code",
   "execution_count": null,
   "id": "e2c4073d",
   "metadata": {},
   "outputs": [],
   "source": []
  }
 ],
 "metadata": {
  "kernelspec": {
   "display_name": "Python 3 (ipykernel)",
   "language": "python",
   "name": "python3"
  },
  "language_info": {
   "codemirror_mode": {
    "name": "ipython",
    "version": 3
   },
   "file_extension": ".py",
   "mimetype": "text/x-python",
   "name": "python",
   "nbconvert_exporter": "python",
   "pygments_lexer": "ipython3",
   "version": "3.9.7"
  }
 },
 "nbformat": 4,
 "nbformat_minor": 5
}
